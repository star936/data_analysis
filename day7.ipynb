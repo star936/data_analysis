{
 "cells": [
  {
   "cell_type": "code",
   "execution_count": 16,
   "metadata": {
    "collapsed": true
   },
   "outputs": [
    {
     "name": "stdout",
     "output_type": "stream",
     "text": [
      "正在进行热毒蕴结证型系数的聚类：\n"
     ]
    },
    {
     "name": "stdout",
     "output_type": "stream",
     "text": [
      "正在进行冲任失调证型系数的聚类：\n"
     ]
    },
    {
     "name": "stderr",
     "output_type": "stream",
     "text": [
      "/home/dang/.local/lib/python2.7/site-packages/ipykernel_launcher.py:26: SettingWithCopyWarning: \nA value is trying to be set on a copy of a slice from a DataFrame\n\nSee the caveats in the documentation: http://pandas.pydata.org/pandas-docs/stable/indexing.html#indexing-view-versus-copy\n"
     ]
    },
    {
     "name": "stdout",
     "output_type": "stream",
     "text": [
      "正在进行肝肾阴虚证型系数的聚类：\n"
     ]
    },
    {
     "name": "stdout",
     "output_type": "stream",
     "text": [
      "正在进行气血两虚证型系数的聚类：\n"
     ]
    },
    {
     "name": "stdout",
     "output_type": "stream",
     "text": [
      "正在进行肝气郁结证型系数的聚类：\n"
     ]
    },
    {
     "name": "stdout",
     "output_type": "stream",
     "text": [
      "正在进行脾胃虚弱证型系数的聚类：\n"
     ]
    },
    {
     "name": "stdout",
     "output_type": "stream",
     "text": [
      "        1           2           3           4\nB     0.0    0.150766    0.296631    0.489705\nBn  325.0  396.000000  180.000000   29.000000\nC     0.0    0.201910    0.288684    0.423325\nCn  296.0  393.000000  206.000000   35.000000\nF     0.0    0.179143    0.261386    0.354643\nFn  200.0  237.000000  265.000000  228.000000\nD     0.0    0.176505    0.257279    0.367217\nDn  309.0  371.000000  212.000000   38.000000\nA     0.0    0.178698    0.257724    0.351843\nAn  240.0  356.000000  281.000000   53.000000\nE     0.0    0.152698    0.257873    0.376062\nEn  273.0  319.000000  245.000000   93.000000\n        1           2           3           4\nA     0.0    0.178698    0.257724    0.351843\nAn  240.0  356.000000  281.000000   53.000000\nB     0.0    0.150766    0.296631    0.489705\nBn  325.0  396.000000  180.000000   29.000000\nC     0.0    0.201910    0.288684    0.423325\nCn  296.0  393.000000  206.000000   35.000000\nD     0.0    0.176505    0.257279    0.367217\nDn  309.0  371.000000  212.000000   38.000000\nE     0.0    0.152698    0.257873    0.376062\nEn  273.0  319.000000  245.000000   93.000000\nF     0.0    0.179143    0.261386    0.354643\nFn  200.0  237.000000  265.000000  228.000000\n"
     ]
    }
   ],
   "source": [
    "# coding: utf-8\n",
    "\"\"\"数据聚类离散化\"\"\"\n",
    "import pandas as pd\n",
    "from sklearn.cluster import KMeans\n",
    "\n",
    "\n",
    "data = pd.read_excel('data8/data.xls')\n",
    "typelabel = {u'肝气郁结证型系数': 'A', u'热毒蕴结证型系数': 'B', u'冲任失调证型系数': 'C', u'气血两虚证型系数': 'D', u'脾胃虚弱证型系数': 'E', u'肝肾阴虚证型系数': 'F'}\n",
    "k = 4\n",
    "keys = list(typelabel.keys())\n",
    "result = pd.DataFrame()\n",
    "\n",
    "for i in range(len(keys)):\n",
    "    print(u'正在进行%s的聚类：' % keys[i])\n",
    "    kmodel = KMeans(n_clusters=k, n_jobs=4)\n",
    "    kmodel.fit(data[[keys[i]]].values)\n",
    "    # 聚类中心\n",
    "    r1 = pd.DataFrame(kmodel.cluster_centers_, columns=[typelabel[keys[i]]])\n",
    "    # 分类统计\n",
    "    r2 = pd.Series(kmodel.labels_).value_counts()\n",
    "    r2 = pd.DataFrame(r2, columns=[typelabel[keys[i]]+'n'])\n",
    "    # 匹配聚类中心和类别数目\n",
    "    r = pd.concat([r1, r2], axis=1).sort_values(by=typelabel[keys[i]])\n",
    "    r.index = [1, 2, 3, 4]\n",
    "    # 用来计算相邻2列的均值，依次作为边界点\n",
    "    r[typelabel[keys[i]]] = r[typelabel[keys[i]]].rolling(2).mean()\n",
    "    r[typelabel[keys[i]]][1] = 0.0\n",
    "    result = result.append(r.T)\n",
    "print(result)\n",
    "result = result.sort_index()\n",
    "print(result)"
   ]
  },
  {
   "cell_type": "code",
   "execution_count": 2,
   "metadata": {},
   "outputs": [
    {
     "name": "stdout",
     "output_type": "stream",
     "text": [
      "\n转换原始数据至0-1矩阵...\n"
     ]
    },
    {
     "name": "stdout",
     "output_type": "stream",
     "text": [
      "\n转换完成，用时0.53秒...\n\n开始搜索关联规则...\n\n正在进行第1次搜索...\n数目：276...\n"
     ]
    },
    {
     "name": "stdout",
     "output_type": "stream",
     "text": [
      "\n正在进行第2次搜索...\n数目：947...\n"
     ]
    },
    {
     "name": "stdout",
     "output_type": "stream",
     "text": [
      "\n正在进行第3次搜索...\n数目：41...\n\n结果为：\n                 support  confidence\nA3--F4--H4      0.078495    0.879518\nC3--F4--H4      0.075269    0.875000\nB2--F4--H4      0.062366    0.794521\nC2--E3--D2      0.092473    0.754386\nD2--F3--H4--A2  0.062366    0.753247\n\n搜索完成，用时2.06秒...\n"
     ]
    }
   ],
   "source": [
    "# coding: utf-8\n",
    "\"\"\"Apriori关联规则算法\"\"\"\n",
    "import pandas as pd\n",
    "import time\n",
    "from apriori import *\n",
    "\n",
    "\n",
    "data = pd.read_csv('data8/apriori.txt', header=None, dtype=object)\n",
    "start = time.clock()\n",
    "# print(data)\n",
    "print(u'\\n转换原始数据至0-1矩阵...')\n",
    "# 转换0-1矩阵的过渡函数，即将标签数据转换成1\n",
    "ct = lambda x: pd.Series(1, index=x[pd.notnull(x)])\n",
    "b = map(ct, data.values)\n",
    "# print(b)\n",
    "# 实现矩阵转换，除了1之外，其余为空，空值用0填充\n",
    "data = pd.DataFrame(b).fillna(0)\n",
    "end = time.clock()\n",
    "print(u'\\n转换完成，用时%.2f秒...' % (end-start))\n",
    "del b\n",
    "# 最小支持度\n",
    "support = 0.06\n",
    "# 最小置信度\n",
    "confidence = 0.75\n",
    "ms = '---'  # 连接符\n",
    "start = time.clock()\n",
    "print(u'\\n开始搜索关联规则...')\n",
    "find_rule(data, support, confidence)\n",
    "end = time.clock()\n",
    "print(u'\\n搜索完成，用时%.2f秒...' % (end-start))"
   ]
  },
  {
   "cell_type": "code",
   "execution_count": 1,
   "metadata": {},
   "outputs": [
    {
     "name": "stdout",
     "output_type": "stream",
     "text": [
      "\n转换原始数据至0-1矩阵...\n"
     ]
    },
    {
     "name": "stdout",
     "output_type": "stream",
     "text": [
      "\n转换完成，用时0.38秒...\n\n开始搜索关联规则...\n\n正在进行第1次搜索...\n数目：276...\n"
     ]
    },
    {
     "name": "stdout",
     "output_type": "stream",
     "text": [
      "\n正在进行第2次搜索...\n数目：947...\n"
     ]
    },
    {
     "name": "stdout",
     "output_type": "stream",
     "text": [
      "\n正在进行第3次搜索...\n数目：41...\n\n结果为：\n                 support  confidence\nA3--F4--H4      0.078495    0.879518\nC3--F4--H4      0.075269    0.875000\nB2--F4--H4      0.062366    0.794521\nC2--E3--D2      0.092473    0.754386\nD2--F3--H4--A2  0.062366    0.753247\n\n搜索完成，用时2.58秒...\n"
     ]
    }
   ],
   "source": [
    ""
   ]
  },
  {
   "cell_type": "code",
   "execution_count": null,
   "metadata": {},
   "outputs": [],
   "source": []
  }
 ],
 "metadata": {
  "kernelspec": {
   "display_name": "Python 2",
   "language": "python",
   "name": "python2"
  },
  "language_info": {
   "codemirror_mode": {
    "name": "ipython",
    "version": 2
   },
   "file_extension": ".py",
   "mimetype": "text/x-python",
   "name": "python",
   "nbconvert_exporter": "python",
   "pygments_lexer": "ipython2",
   "version": "2.7.6"
  }
 },
 "nbformat": 4,
 "nbformat_minor": 0
}
