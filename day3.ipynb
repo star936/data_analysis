{
 "cells": [
  {
   "cell_type": "code",
   "execution_count": 5,
   "metadata": {
    "collapsed": true
   },
   "outputs": [
    {
     "name": "stdout",
     "output_type": "stream",
     "text": [
      "     0    1    2     3\n0   78  521  602  2863\n1  144 -600 -521  2245\n2   95 -457  468 -1283\n3   69  596  695  1054\n4  190  527  691  2051\n5  101  403  470  2487\n6  146  413  435  2571\n          0         1         2         3\n0  0.074380  0.937291  0.923520  1.000000\n1  0.619835  0.000000  0.000000  0.850941\n2  0.214876  0.119565  0.813322  0.000000\n3  0.000000  1.000000  1.000000  0.563676\n4  1.000000  0.942308  0.996711  0.804149\n5  0.264463  0.838629  0.814967  0.909310\n6  0.636364  0.846990  0.786184  0.929571\n          0         1         2         3\n0 -0.905383  0.635863  0.464531  0.798149\n1  0.604678 -1.587675 -2.193167  0.369390\n2 -0.516428 -1.304030  0.147406 -2.078279\n3 -1.111301  0.784628  0.684625 -0.456906\n4  1.657146  0.647765  0.675159  0.234796\n5 -0.379150  0.401807  0.152139  0.537286\n6  0.650438  0.421642  0.069308  0.595564\n       0      1      2       3\n0  0.078  0.521  0.602  0.2863\n1  0.144 -0.600 -0.521  0.2245\n2  0.095 -0.457  0.468 -0.1283\n3  0.069  0.596  0.695  0.1054\n4  0.190  0.527  0.691  0.2051\n5  0.101  0.403  0.470  0.2487\n6  0.146  0.413  0.435  0.2571\n"
     ]
    }
   ],
   "source": [
    "# coding: utf-8\n",
    "\"\"\"数据规范化代码\"\"\"\n",
    "import pandas as pd\n",
    "import numpy as np\n",
    "\n",
    "\n",
    "data = pd.read_excel('data4/normalization_data.xls', header=None)\n",
    "print(data)\n",
    "# 最小-最大规范化\n",
    "print((data - data.min()) / (data.max() - data.min()))\n",
    "# 零-均值规范化\n",
    "print((data - data.mean()) / data.std())\n",
    "# 小数定标规范化\n",
    "print(data/10**np.ceil(np.log10(data.abs().max())))"
   ]
  },
  {
   "cell_type": "code",
   "execution_count": 49,
   "metadata": {
    "collapsed": false
   },
   "outputs": [
    {
     "name": "stdout",
     "output_type": "stream",
     "text": [
      "<class 'pandas.core.series.Series'>\n"
     ]
    }
   ],
   "source": [
    "# coding: utf-8\n",
    "\"\"\"数据离散化代码\"\"\"\n",
    "import pandas as pd\n",
    "from sklearn.cluster import KMeans\n",
    "\n",
    "\n",
    "data = pd.read_excel('data4/discretization_data.xls')\n",
    "data = data[u'肝气郁结证型系数'].copy()\n",
    "print(type(data))\n",
    "k = 4\n",
    "\n",
    "# 等宽离散化,各个类比一次命名为0,1,2,3\n",
    "d1 = pd.cut(data, k, labels=range(k))\n",
    "\n",
    "# 等频离散化\n",
    "w = [1.0*i/k for i in range(k+1)]\n",
    "w = data.describe(percentiles=w)[4:4+k+1]\n",
    "w[0] = w[0] * (1-1e-10)\n",
    "d2 = pd.cut(data, w, labels=range(k))\n",
    "\n",
    "# 建立模型，n_jobs是并行数，一般代表CPU数\n",
    "kmodel = KMeans(n_clusters=k, n_jobs=4)\n",
    "# 训练模型\n",
    "# print(data.as_matrix())\n",
    "kmodel.fit(data.values.reshape((len(data), 1)))\n",
    "# 输出聚类中心，并且排序（默认是随机的）\n",
    "c = pd.DataFrame(kmodel.cluster_centers_).sort_values(by=[0])\n",
    "# 相邻两项求中点，作为边界点\n",
    "w = c.rolling(2).mean().iloc[1:]\n",
    "# 把首末边界点加上\n",
    "w = [0] + list(w[0]) + [data.max()]\n",
    "d3 = pd.cut(data, w, labels=range(k))\n",
    "\n",
    "\n",
    "# 自定义作图函数来显示聚类结果\n",
    "def cluster_plot(d, k):\n",
    "    import matplotlib.pyplot as plt\n",
    "    plt.rcParams['font.sans-serif'] = ['SimHei']  # 用来正常显示中文标签\n",
    "    plt.rcParams['axes.unicode_minus'] = False  # 用来正常显示负号\n",
    "    plt.figure(figsize=(8, 3))\n",
    "    for j in range(0, k):\n",
    "        plt.plot(data[d==j], [j for i in d[d==j]], 'o')\n",
    "    plt.ylim(-0.5, k-0.5)\n",
    "    return plt\n",
    "\n",
    "\n",
    "cluster_plot(d1, k).show()\n",
    "cluster_plot(d2, k).show()\n",
    "cluster_plot(d3, k).show()"
   ]
  },
  {
   "cell_type": "code",
   "execution_count": 53,
   "metadata": {},
   "outputs": [
    {
     "name": "stdout",
     "output_type": "stream",
     "text": [
      "{'leleccum': array([[420.20278994, 423.52653517, 423.52271225, ..., 323.96580997,\n        323.2400761 , 323.85476049]])}\n[420.20278994 423.52653517 423.52271225 ... 323.96580997 323.2400761\n 323.85476049]\n6\n"
     ]
    }
   ],
   "source": [
    "# coding: utf-8\n",
    "from scipy.io import loadmat\n",
    "import pywt\n",
    "\n",
    "mat = loadmat('data4/leleccum.mat')\n",
    "print(mat)\n",
    "signal = mat['leleccum'][0]\n",
    "print(signal)\n",
    "result = pywt.wavedec(signal, 'bior3.7', level=5)\n",
    "print(len(result))\n"
   ]
  },
  {
   "cell_type": "code",
   "execution_count": 58,
   "metadata": {},
   "outputs": [
    {
     "name": "stdout",
     "output_type": "stream",
     "text": [
      "[[ 0.56788461  0.2280431   0.23281436  0.22427336  0.3358618   0.43679539\n   0.03861081  0.46466998]\n [ 0.64801531  0.24732373 -0.17085432 -0.2089819  -0.36050922 -0.55908747\n   0.00186891  0.05910423]\n [-0.45139763  0.23802089 -0.17685792 -0.11843804 -0.05173347 -0.20091919\n  -0.00124421  0.80699041]\n [-0.19404741  0.9021939  -0.00730164 -0.01424541  0.03106289  0.12563004\n   0.11152105 -0.3448924 ]\n [-0.06133747 -0.03383817  0.12652433  0.64325682 -0.3896425  -0.10681901\n   0.63233277  0.04720838]\n [ 0.02579655 -0.06678747  0.12816343 -0.57023937 -0.52642373  0.52280144\n   0.31167833  0.0754221 ]\n [-0.03800378  0.09520111  0.15593386  0.34300352 -0.56640021  0.18985251\n  -0.69902952  0.04505823]\n [-0.10147399  0.03937889  0.91023327 -0.18760016  0.06193777 -0.34598258\n  -0.02090066  0.02137393]]\n[7.74011263e-01 1.56949443e-01 4.27594216e-02 2.40659228e-02\n 1.50278048e-03 4.10990447e-04 2.07718405e-04 9.24594471e-05]\n[[41.81945026 17.92938537  7.42743613  6.38423781  7.51911186  7.95581778\n   1.89450158 22.64634237]\n [26.03033486  8.31048339 11.0923029  10.50941053 13.73592734 19.29219354\n   1.55616178 10.69991334]\n [12.8912027   4.7200299   4.15574756  3.88084002  4.15590258  5.95354081\n   0.63142514  3.10031979]\n [21.95107023  7.86983692  5.61296149  5.00363184  5.46598715  7.32692984\n   1.00043437  6.90279388]\n [33.2494621  16.9295226   6.97070109  6.54184048  8.78799069  9.47854775\n   1.76803069 25.48379317]\n [35.30223656 14.31635159 16.19611986 15.83211443 22.51688172 30.25654088\n   2.46591519 25.94480913]\n [22.0404299   7.67212745  9.96458085  9.59042702 12.69748404 17.7402549\n   1.39886681 10.62704002]\n [47.82344306 16.03581175 11.11907058  9.5362307  11.08119152 14.24461981\n   2.12478649 16.79265084]\n [40.72333307 17.98533192 20.14597677 19.9884634  29.35835797 39.0457226\n   3.09998769 36.25975467]\n [24.50981762  9.36433655  9.52005459  9.10471477 12.0327766  16.33445643\n   1.4768007  13.14701555]\n [13.3825743   5.67777166  4.16004148  3.95836057  4.47861564  6.08501405\n   0.6981744   5.42443324]\n [ 1.44783093  2.03894892  0.87728401  1.09467426  0.69475478  1.13961005\n   0.11798269  0.47858262]\n [32.5440038  13.14166028  8.856767    8.14476825 10.36303253 13.1291864\n   1.68627384 17.31120923]\n [37.98481061 11.3084017  11.30095568 10.03028594 12.01198559 16.61756516\n   1.80165862 10.78134217]]\n"
     ]
    }
   ],
   "source": [
    "# coding: utf-8\n",
    "import pandas as pd\n",
    "from sklearn.decomposition import PCA\n",
    "\n",
    "\n",
    "data = pd.read_excel('data4/principal_component.xls', header=None)\n",
    "out_file = 'result1.xls'\n",
    "\n",
    "pca = PCA()\n",
    "pca.fit(data)\n",
    "print(pca.components_)\n",
    "print(pca.explained_variance_ratio_)\n",
    "\n",
    "pca1 = PCA(3)\n",
    "pca1.fit(data)\n",
    "low_d = pca1.transform(data)\n",
    "pd.DataFrame(low_d).to_excel(out_file)\n",
    "print(pca1.inverse_transform(low_d))"
   ]
  },
  {
   "cell_type": "code",
   "execution_count": null,
   "metadata": {},
   "outputs": [],
   "source": []
  }
 ],
 "metadata": {
  "kernelspec": {
   "display_name": "Python 2",
   "language": "python",
   "name": "python2"
  },
  "language_info": {
   "codemirror_mode": {
    "name": "ipython",
    "version": 2
   },
   "file_extension": ".py",
   "mimetype": "text/x-python",
   "name": "python",
   "nbconvert_exporter": "python",
   "pygments_lexer": "ipython2",
   "version": "2.7.6"
  }
 },
 "nbformat": 4,
 "nbformat_minor": 0
}
