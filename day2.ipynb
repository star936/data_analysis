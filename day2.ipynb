{
 "cells": [
  {
   "cell_type": "code",
   "execution_count": 8,
   "metadata": {
    "collapsed": true
   },
   "outputs": [
    {
     "name": "stdout",
     "output_type": "stream",
     "text": [
      "85.0033%\n"
     ]
    },
    {
     "name": "stderr",
     "output_type": "stream",
     "text": [
      "/home/dang/anaconda2/envs/caffe2env/lib/python2.7/site-packages/matplotlib/font_manager.py:1328: UserWarning: findfont: Font family [u'sans-serif'] not found. Falling back to DejaVu Sans\n  (prop.get_family(), self.defaultFamily[fontext]))\n"
     ]
    }
   ],
   "source": [
    "# -*- coding: utf-8 -*-\n",
    "# 菜品盈利数据 帕累托图\n",
    "from __future__ import print_function\n",
    "import pandas as pd\n",
    "import matplotlib.pyplot as plt  # 导入图像库\n",
    "\n",
    "\n",
    "# 初始化参数\n",
    "dish_profit = 'data/catering_dish_profit.xls'  # 餐饮菜品盈利数据\n",
    "data = pd.read_excel(dish_profit, index_col=u'菜品名')\n",
    "data = data[u'盈利'].copy()\n",
    "# data.sort(ascending=False)\n",
    "\n",
    "\n",
    "plt.rcParams['font.sans-serif'] = ['SimHei']  # 用来正常显示中文标签\n",
    "plt.rcParams['axes.unicode_minus'] = False  # 用来正常显示负号\n",
    "\n",
    "plt.figure()\n",
    "data.plot(kind='bar')\n",
    "plt.ylabel(u'盈利（元）')\n",
    "p = 1.0*data.cumsum()/data.sum()\n",
    "print(format(p[6], '.4%'))\n",
    "p.plot(color='r', secondary_y=True, style='-o', linewidth=2)\n",
    "plt.annotate(format(p[6], '.4%'), xy=(6, p[6]),  xytext=(6*0.9, p[6]*0.9),\n",
    "             arrowprops=dict(arrowstyle=\"->\", connectionstyle=\"arc3,rad=.2\"))  # 添加注释，即85%处的标记。这里包括了指定箭头样式。\n",
    "plt.ylabel(u'盈利（比例）')\n",
    "plt.show()\n"
   ]
  },
  {
   "cell_type": "code",
   "execution_count": 18,
   "metadata": {},
   "outputs": [
    {
     "name": "stdout",
     "output_type": "stream",
     "text": [
      "百合酱蒸凤爪     1.000000\n翡翠蒸香茜饺     0.009206\n金银蒜汁蒸排骨    0.016799\n乐膳真味鸡      0.455638\n蜜汁焗餐包      0.098085\n生炒菜心       0.308496\n铁板酸菜豆腐     0.204898\n香煎韭菜饺      0.127448\n香煎罗卜糕     -0.090276\n原汁原味菜心     0.428316\nName: 百合酱蒸凤爪, dtype: float64\n0.009205803051836482\n"
     ]
    }
   ],
   "source": [
    "# -*- coding: utf-8 -*-\n",
    "from __future__ import print_function\n",
    "import pandas as pd\n",
    "\n",
    "catering_sale = 'data/catering_sale_all.xls'  # 餐饮数据，含有其他属性\n",
    "data = pd.read_excel(catering_sale, index_col=u'日期')  # 读取数据，指定“日期”列为索引列\n",
    "\n",
    "data.corr()  # 相关系数矩阵，即给出了任意两款菜式之间的相关系数\n",
    "print(data.corr()[u'百合酱蒸凤爪'])  # 只显示“百合酱蒸凤爪”与其他菜式的相关系数\n",
    "print(data[u'百合酱蒸凤爪'].corr(data[u'翡翠蒸香茜饺']))\n",
    "\n"
   ]
  },
  {
   "cell_type": "code",
   "execution_count": 17,
   "metadata": {},
   "outputs": [],
   "source": [
    "import matplotlib.pyplot as plt\n",
    "\n",
    "\n",
    "labels = ['Frogs', 'Hogs', 'Dogs', 'Logs']\n",
    "sizes = [15, 30, 45, 10]\n",
    "colors = ['yellowgreen', 'gold', 'lightskyblue', 'lightcoral']\n",
    "explode = [0, 0.5, 0, 0]\n",
    "plt.pie(sizes, explode=explode, labels=labels, colors=colors, autopct='%1.1f%%', shadow=True, startangle=90)\n",
    "plt.axis('equal')\n",
    "plt.show()"
   ]
  },
  {
   "cell_type": "code",
   "execution_count": 23,
   "metadata": {},
   "outputs": [
    {
     "name": "stdout",
     "output_type": "stream",
     "text": [
      "[-0.17681257  1.53318685  0.85334372 -0.52906641 -1.88312792  0.45705118\n -0.25375748 -0.65913102  0.52940848 -0.84920357]\n[ 0.          0.84147098  0.90929743  0.14112001 -0.7568025  -0.95892427\n -0.2794155   0.6569866   0.98935825  0.41211849]\n[0 1 2 3 4 5 6 7 8 9]\n0    0.000000\n1    0.841471\n2    0.909297\n3    0.141120\n4   -0.756802\n5   -0.958924\n6   -0.279415\n7    0.656987\n8    0.989358\n9    0.412118\ndtype: float64\n"
     ]
    }
   ],
   "source": [
    "import numpy as np\n",
    "import pandas as pd\n",
    "\n",
    "\n",
    "print(np.random.randn(10))\n",
    "print(np.sin(np.arange(10)))\n",
    "print(np.arange(10))\n",
    "print(pd.Series(np.sin(np.arange(10))))"
   ]
  },
  {
   "cell_type": "code",
   "execution_count": 36,
   "metadata": {},
   "outputs": [
    {
     "name": "stderr",
     "output_type": "stream",
     "text": [
      "/home/dang/.local/lib/python2.7/site-packages/ipykernel_launcher.py:21: SettingWithCopyWarning: \nA value is trying to be set on a copy of a slice from a DataFrame\n\nSee the caveats in the documentation: http://pandas.pydata.org/pandas-docs/stable/indexing.html#indexing-view-versus-copy\n/home/dang/.local/lib/python2.7/site-packages/ipykernel_launcher.py:26: SettingWithCopyWarning: \nA value is trying to be set on a copy of a slice from a DataFrame\n\nSee the caveats in the documentation: http://pandas.pydata.org/pandas-docs/stable/indexing.html#indexing-view-versus-copy\n"
     ]
    },
    {
     "name": "stdout",
     "output_type": "stream",
     "text": [
      "1    2618.2\n2    2608.4\n3    2651.9\n4    3442.1\n5    3393.1\nName: 销量, dtype: float64\n[2618.2, 2608.4, 2651.9, 3442.1, 3393.1]\nInt64Index([1, 2, 3, 4, 5], dtype='int64')\n-291.4000000000001\n3     2651.9\n4     3442.1\n5     3393.1\n6     3136.6\n7     3744.1\n9     4060.3\n10    3614.7\n11    3295.5\n12    2332.1\n13    2699.3\nName: 销量, dtype: float64\n[2651.9, 3442.1, 3393.1, 3136.6, 3744.1, 4060.3, 3614.7, 3295.5, 2332.1, 2699.3]\nInt64Index([3, 4, 5, 6, 7, 9, 10, 11, 12, 13], dtype='int64')\n4275.254762476077\n9     4060.3\n10    3614.7\n11    3295.5\n12    2332.1\n13    2699.3\n15    3036.8\n16     865.0\n17    3014.3\n18    2742.8\n19    2173.5\nName: 销量, dtype: float64\n[4060.3, 3614.7, 3295.5, 2332.1, 2699.3, 3036.8, 865.0, 3014.3, 2742.8, 2173.5]\nInt64Index([9, 10, 11, 12, 13, 15, 16, 17, 18, 19], dtype='int64')\n4156.860423326492\n98     2839.2\n99     2360.9\n100    2158.5\n101    2005.5\n102    3236.4\n104    2452.6\n105    2265.0\n106    2566.1\n107    2527.2\n108    2326.5\nName: 销量, dtype: float64\n[2839.2, 2360.9, 2158.5, 2005.5, 3236.4, 2452.6, 2265.0, 2566.1, 2527.2, 2326.5]\nInt64Index([98, 99, 100, 101, 102, 104, 105, 106, 107, 108], dtype='int64')\n"
     ]
    },
    {
     "name": "stdout",
     "output_type": "stream",
     "text": [
      "96.0\n105    2265.0\n106    2566.1\n107    2527.2\n108    2326.5\n109    2941.9\n111    2520.9\n112    2446.2\n113    2549.4\n114    2449.3\n115    2162.5\nName: 销量, dtype: float64\n[2265.0, 2566.1, 2527.2, 2326.5, 2941.9, 2520.9, 2446.2, 2549.4, 2449.3, 2162.5]\nInt64Index([105, 106, 107, 108, 109, 111, 112, 113, 114, 115], dtype='int64')\n6720.0\n139    3193.4\n140    3075.4\n141    2847.6\n142    2311.4\n143    2327.3\n145    2616.6\n146    2620.2\n147    2616.4\n148    2655.8\n149    2310.7\nName: 销量, dtype: float64\n[3193.4, 3075.4, 2847.6, 2311.4, 2327.3, 2616.6, 2620.2, 2616.4, 2655.8, 2310.7]\nInt64Index([139, 140, 141, 142, 143, 145, 146, 147, 148, 149], dtype='int64')\n-75744.0\n"
     ]
    }
   ],
   "source": [
    "# coding: utf-8\n",
    "\"\"\"拉格朗日插值代码\"\"\"\n",
    "import pandas as pd\n",
    "from scipy.interpolate import lagrange\n",
    "\n",
    "\n",
    "# 自定义列向量插值函数：s为列向量，n为被插值的位置，k为取前后数据的个数，默认为5\n",
    "def f(s, n, k=5):\n",
    "    y = s[list(range(n-k, n)) + list(range(n+1, n+k+1))]\n",
    "    y = y[y.notnull()]\n",
    "    return lagrange(y.index, list(y))(n)\n",
    "\n",
    "\n",
    "inputfile = 'data/catering_sale.xls'\n",
    "outfile = 'result.xls'\n",
    "data = pd.read_excel(inputfile)\n",
    "data[u'销量'][(data[u'销量'] < 400) | (data[u'销量'] > 5000)] = None\n",
    "# print(data)\n",
    "for i in data.columns:\n",
    "    for j in range(len(data)):\n",
    "        if (data[i].isnull())[j]:\n",
    "            data[i][j] = f(data[i], j)\n",
    "\n",
    "data.to_excel(outfile)"
   ]
  },
  {
   "cell_type": "code",
   "execution_count": null,
   "metadata": {},
   "outputs": [],
   "source": []
  }
 ],
 "metadata": {
  "kernelspec": {
   "display_name": "Python 2",
   "language": "python",
   "name": "python2"
  },
  "language_info": {
   "codemirror_mode": {
    "name": "ipython",
    "version": 2
   },
   "file_extension": ".py",
   "mimetype": "text/x-python",
   "name": "python",
   "nbconvert_exporter": "python",
   "pygments_lexer": "ipython2",
   "version": "2.7.6"
  }
 },
 "nbformat": 4,
 "nbformat_minor": 0
}
