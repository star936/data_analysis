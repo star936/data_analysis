{
 "cells": [
  {
   "cell_type": "code",
   "execution_count": 15,
   "metadata": {
    "collapsed": true
   },
   "outputs": [],
   "source": [
    "# coding: utf-8\n",
    "import pandas as pd\n",
    "import numpy as np\n",
    "from sklearn.cluster import KMeans\n",
    "import matplotlib.pyplot as plt\n",
    "\n",
    "\n",
    "data = pd.read_excel('data5/consumption_data.xls', index_col='Id')\n",
    "data_zs = 1.0 * (data - data.mean()) / data.std()\n",
    "k = 3\n",
    "# 离散点阀值\n",
    "threshold = 2\n",
    "interation = 500\n",
    "\n",
    "model = KMeans(n_clusters=k, n_jobs=4, max_iter=interation)\n",
    "model.fit(data_zs)\n",
    "r = pd.concat([data_zs, pd.Series(model.labels_, index=data.index)], axis=1)\n",
    "r.columns = list(data.columns) + [u'聚类类别']\n",
    "\n",
    "norm = []\n",
    "for i in range(k):\n",
    "    norm_tmp = r[['R', 'F', 'M']][r[u'聚类类别'] == 1] - model.cluster_centers_[i]\n",
    "    # 求绝对距离\n",
    "    norm_tmp = norm_tmp.apply(np.linalg.norm, axis=1)\n",
    "    norm.append(norm_tmp/norm_tmp.median())\n",
    "norm = pd.concat(norm)\n",
    "\n",
    "plt.rcParams['font.sans-serif'] = ['SimHei']  # 用来正常显示中文标签\n",
    "plt.rcParams['axes.unicode_minus'] = False  # 用来正常显示负号\n",
    "norm[norm <= threshold].plot(style='go')  # 正常点\n",
    "discrete_points = norm[norm > threshold]  # 离散点\n",
    "discrete_points.plot(style='ro')\n",
    "\n",
    "for i in range(len(discrete_points)):\n",
    "    id = discrete_points.index[i]\n",
    "    n = discrete_points.iloc[i]\n",
    "    plt.annotate('(%s, %.2f)' % (id, n), xy=(id, n), xytext=(id, n))\n",
    "plt.xlabel(u'编号')\n",
    "plt.ylabel(u'相对距离')\n",
    "plt.show()"
   ]
  },
  {
   "cell_type": "code",
   "execution_count": 33,
   "metadata": {},
   "outputs": [
    {
     "name": "stdout",
     "output_type": "stream",
     "text": [
      "             0           1           2\n0   235.833300  324.034300  478.323100\n1   236.270800  325.637900  515.456400\n2   238.052100  328.089700  517.090900\n3   235.906300  234.760314  514.890000\n4   236.760400  268.832400  498.853908\n5   237.672503  404.048000  486.091200\n6   237.416700  391.265200  516.233000\n7   238.656300  380.824100  507.188091\n8   237.604200  388.023000  435.350800\n9   238.031300  206.434900  487.675000\n10  235.072900  206.544787  610.560305\n11  235.531300  400.078700  660.234700\n12  235.743740  411.206900  621.234600\n13  234.468800  395.234300  611.340800\n14  235.500000  344.822100  643.086300\n15  235.635400  385.643200  642.348200\n16  234.552100  401.623400  618.197198\n17  236.000000  409.648900  602.934700\n18  235.239600  416.879500  589.345700\n19  235.489600  420.748600  556.345200\n20  236.968800  408.963200  538.347000\n"
     ]
    }
   ],
   "source": [
    "# coding: utf-8\n",
    "\"\"\"拉格朗日插值法\"\"\"\n",
    "import pandas as pd\n",
    "from scipy.interpolate import lagrange\n",
    "\n",
    "\n",
    "data = pd.read_excel('data6/missing_data.xls', header=None)\n",
    "\n",
    "\n",
    "def insert_values(s, n, k=5):\n",
    "    y = s[list(range(n-k, n)) + list(range(n+1, n+k))]\n",
    "    y = y[y.notnull()]\n",
    "    return lagrange(y.index, list(y))(n)\n",
    "\n",
    "\n",
    "for i in data.columns:\n",
    "    for j in range(len(data)):\n",
    "        if (data[i].isnull())[j]:\n",
    "            data[i][j] = insert_values(data[i], j)\n",
    "print(data)"
   ]
  },
  {
   "cell_type": "code",
   "execution_count": null,
   "metadata": {},
   "outputs": [],
   "source": []
  }
 ],
 "metadata": {
  "kernelspec": {
   "display_name": "Python 2",
   "language": "python",
   "name": "python2"
  },
  "language_info": {
   "codemirror_mode": {
    "name": "ipython",
    "version": 2
   },
   "file_extension": ".py",
   "mimetype": "text/x-python",
   "name": "python",
   "nbconvert_exporter": "python",
   "pygments_lexer": "ipython2",
   "version": "2.7.6"
  }
 },
 "nbformat": 4,
 "nbformat_minor": 0
}
